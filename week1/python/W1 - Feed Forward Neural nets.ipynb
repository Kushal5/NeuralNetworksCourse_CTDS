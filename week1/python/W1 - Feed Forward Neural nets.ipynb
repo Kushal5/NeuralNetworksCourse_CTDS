{
 "cells": [
  {
   "cell_type": "markdown",
   "metadata": {},
   "source": [
    "<img src=\"img/uni_syd_logo.jpg\" width=\"200\" height=\"200\" style=\"float: right\" />\n",
    "# Feed Forward Neural Networks\n",
    "Dr. Rohitash Chandra and Rafael Possas - Centre of Translational Data Science / Sydney Informatics Hub"
   ]
  },
  {
   "cell_type": "code",
   "execution_count": 1,
   "metadata": {
    "collapsed": true
   },
   "outputs": [],
   "source": [
    "import jdc as jdc\n",
    "import matplotlib.pyplot as plt\n",
    "import numpy as np\n",
    "import random\n",
    "import time\n",
    "%matplotlib inline"
   ]
  },
  {
   "cell_type": "code",
   "execution_count": 2,
   "metadata": {
    "collapsed": true
   },
   "outputs": [],
   "source": [
    "class Network:\n",
    "    def __init__(self, layers, x_train, y_train, epochs, learning_rate, MinPer):\n",
    "        self.layers = layers  # NN topology [input, hidden, output]\n",
    "        self.epochs = epochs  # max epocs or training time\n",
    "        self.num_samples = len(x_train)\n",
    "\n",
    "        self.x_train = x_train\n",
    "        self.y_train = y_train\n",
    "\n",
    "        self.learning_rate = learning_rate  # will be updated later with BP call\n",
    "        self.minPerf = MinPer\n",
    "        # initialize weights ( W1 W2 ) and bias ( b1 b2 ) of the network\n",
    "        np.random.seed()\n",
    "\n",
    "        self.w1 = np.random.randn(self.layers[0], self.layers[1])\n",
    "        self.b1 = np.random.randn(self.layers[1])  # bias first layer\n",
    "        self.best_b1 = self.b1\n",
    "        self.best_w1 = self.w1\n",
    "\n",
    "        self.w2 = np.random.randn(self.layers[1], self.layers[2])\n",
    "        self.b2 = np.random.randn(self.layers[2])  # bias second layer\n",
    "        self.best_b2 = self.b2\n",
    "        self.best_w2 = self.w2\n",
    "\n",
    "        self.hidden_out = np.zeros(self.layers[1])  # output of first hidden layer\n",
    "        self.hidden_delta = np.zeros(self.layers[1])  # gradient of first hidden layer\n",
    "\n",
    "        self.output = np.zeros(self.layers[2])  # output last (output) layer\n",
    "        self.output_delta = np.zeros(self.layers[2])  # gradient of  output layer"
   ]
  },
  {
   "cell_type": "markdown",
   "metadata": {},
   "source": [
    "## The Perceptron model - Where it all started\n",
    "<img src=\"http://neuralnetworksanddeeplearning.com/images/tikz0.png\" width=\"250\" height=\"250\"/>"
   ]
  },
  {
   "cell_type": "markdown",
   "metadata": {},
   "source": [
    "- Inputs x<sub>1</sub>, x<sub>2</sub>, ..., x<sub>n</sub>\n",
    "- Outputs are computed using weights w<sub>1</sub>,w<sub>2</sub>, ...,w<sub>n</sub> that expressing the respective importance of the inputs to outputs\n",
    "- The neuron's output, 0 or 1, is determined by whether the weighted sum ∑<sub>j</sub>w<sub>j</sub>x<sub>j</sub> is less than or greater than some threshold value\n",
    "<img src=\"img/perceptron_outputs.png\" width=\"400\" height=\"400\"/>"
   ]
  },
  {
   "cell_type": "markdown",
   "metadata": {},
   "source": [
    "## How a Multi-layer perceptron would look like?"
   ]
  },
  {
   "cell_type": "markdown",
   "metadata": {},
   "source": [
    "<img src=\"img/nn_architecture.png\" width=\"500\" height=\"500\"/>"
   ]
  },
  {
   "cell_type": "markdown",
   "metadata": {},
   "source": [
    "- First column of perceptrons is making three simple decisions by weighing the input evidence\n",
    "- Perceptrons on the second layer are making decisions by weighing at more abstract and complex level when compared to the first layer\n",
    "- This pattern repeats the deeper you get in the network"
   ]
  },
  {
   "cell_type": "markdown",
   "metadata": {},
   "source": [
    "## Neuron Example: Sigmoid Neuron"
   ]
  },
  {
   "cell_type": "markdown",
   "metadata": {},
   "source": [
    "<img src=\"http://neuralnetworksanddeeplearning.com/images/tikz8.png\" width=\"450\" height=\"450\"/>"
   ]
  },
  {
   "cell_type": "markdown",
   "metadata": {
    "collapsed": true
   },
   "source": [
    "- Instead of using a linear (weighted) function we could use the sigmoid function that is pretty much a step function that shrinks all the values between 0 and 1, each Neuron would activate the closer the resulting value of the sigmoid is to 1\n",
    "- To put it all a little more explicitly, the output of a sigmoid neuron with inputs x1,x2,..., weights w1,w2,..., and bias b is\n",
    "<img src=\"img/sigmoid_plot.png\" width=\"450\" height=\"450\"/>\n",
    "<img src=\"img/sigmoid_neuron.png\" width=\"250\" height=\"250\"/>"
   ]
  },
  {
   "cell_type": "markdown",
   "metadata": {},
   "source": [
    "- The result of the sigmoid function for each neuron gives its **activation** value, from now on denoted as **a**"
   ]
  },
  {
   "cell_type": "markdown",
   "metadata": {},
   "source": [
    "### Sigmoid code"
   ]
  },
  {
   "cell_type": "code",
   "execution_count": 3,
   "metadata": {
    "collapsed": false
   },
   "outputs": [],
   "source": [
    "%%add_to Network\n",
    "def sigmoid(self, x):\n",
    "    return 1 / (1 + np.exp(-x))"
   ]
  },
  {
   "cell_type": "markdown",
   "metadata": {},
   "source": [
    "- The smoothness of σ means that small changes Δwj in the weights and Δb in the bias will produce a small change Δoutput in the output from the neuron. In fact, calculus tells us that Δoutput is well approximated by"
   ]
  },
  {
   "cell_type": "markdown",
   "metadata": {},
   "source": [
    "<img src=\"img/output_delta.png\" width=\"350\" height=\"350\"/>"
   ]
  },
  {
   "cell_type": "markdown",
   "metadata": {},
   "source": [
    "What we'd like is an algorithm which lets us find weights and biases so that the output from the network approximates **y(x)** for all training inputs **x**. To quantify how well we're achieving this goal we define a cost function: \n",
    "<img src=\"img/cost_function.png\" width=\"350\" height=\"350\"/>"
   ]
  },
  {
   "cell_type": "code",
   "execution_count": 4,
   "metadata": {
    "collapsed": false
   },
   "outputs": [],
   "source": [
    "%%add_to Network\n",
    "def calculate_error(self, actual_out, output_layer_size=None):\n",
    "    if output_layer_size is None:\n",
    "        output_layer_size = self.layers[-1]\n",
    "\n",
    "    error = np.sum(np.square(np.subtract(self.output, actual_out))) / output_layer_size\n",
    "    return error"
   ]
  },
  {
   "cell_type": "markdown",
   "metadata": {},
   "source": [
    "We want to find the minimum of such functions so as to we have the smaller difference between our predicted and real value. This can be done with the help of calculus and the **Gradient Descent Algorithm**\n",
    "<img src=\"img/valley_with_ball.png\" width=\"350\" height=\"350\"/>"
   ]
  },
  {
   "cell_type": "markdown",
   "metadata": {},
   "source": [
    "If we move the ball in two different directions at a time, the total **cost change** can be found by using the following formula:\n",
    "<img src=\"img/gradient_desc.png\" width=\"300\" height=\"300\"/>"
   ]
  },
  {
   "cell_type": "markdown",
   "metadata": {},
   "source": [
    "The gradient of the cost function **C** is the vector of partial derivatives for all variables, and can be defined by the formula: (Supposing we have only two variables, would work for any number of variables though)\n",
    "<img src=\"img/gradient_desc_2.png\" width=\"250\" height=\"250\"/>"
   ]
  },
  {
   "cell_type": "markdown",
   "metadata": {},
   "source": [
    "With these definition we can then relate the changes in our **Cost Function** with the gradient vector and the changes in our values **v**, the following equation then can be defined:\n",
    "<img src=\"img/gradient_desc_3.png\" width=\"200\" height=\"200\"/>"
   ]
  },
  {
   "cell_type": "markdown",
   "metadata": {},
   "source": [
    "The interesting thing about the equation is that it lets us see how to choose Δv so as to make ΔC negative. In particular, suppose we choose where η is a small, positive parameter (known as the learning rate), the ball will slowly go downhill"
   ]
  },
  {
   "cell_type": "markdown",
   "metadata": {},
   "source": [
    "<img src=\"img/gradient_desc_4.png\" width=\"200\" height=\"200\"/>"
   ]
  },
  {
   "cell_type": "markdown",
   "metadata": {},
   "source": [
    "With all the aforementioned definition we can then define the rules for updating our network **weights** and **biases** in order to decrease our cost function\n",
    "<img src=\"img/update_rule.png\" width=\"250\" height=\"250\"/>"
   ]
  },
  {
   "cell_type": "markdown",
   "metadata": {},
   "source": [
    "### Example code that calculates the minimum of a function with gradient descent"
   ]
  },
  {
   "cell_type": "code",
   "execution_count": 5,
   "metadata": {
    "collapsed": false
   },
   "outputs": [
    {
     "name": "stdout",
     "output_type": "stream",
     "text": [
      "The local minimum occurs at 2.249965\n"
     ]
    }
   ],
   "source": [
    "# From calculation, it is expected that the local minimum occurs at x=9/4\n",
    "\n",
    "cur_x = 6 # The algorithm starts at x=6\n",
    "gamma = 0.01 # step size multiplier\n",
    "precision = 0.00001\n",
    "previous_step_size = cur_x\n",
    "\n",
    "def df(x):\n",
    "    return 4 * x**3 - 9 * x**2\n",
    "\n",
    "while previous_step_size > precision:\n",
    "    prev_x = cur_x\n",
    "    cur_x += -gamma * df(prev_x)\n",
    "    previous_step_size = abs(cur_x - prev_x)\n",
    "\n",
    "print(\"The local minimum occurs at %f\" % cur_x)"
   ]
  },
  {
   "cell_type": "markdown",
   "metadata": {},
   "source": [
    "### With this new concept we can then define the backward pass for our network that updates our weights and biases"
   ]
  },
  {
   "cell_type": "code",
   "execution_count": 6,
   "metadata": {
    "collapsed": false
   },
   "outputs": [],
   "source": [
    "%%add_to Network\n",
    "def update_weights_bias(self, weights, bias, hidden_layer_size, hidden_output, next_layer_size, next_layer_delta):\n",
    "    for x in range(0, hidden_layer_size):\n",
    "        for y in range(0, next_layer_size):\n",
    "            weights[x, y] += self.learning_rate * next_layer_delta[y] * hidden_output[x]\n",
    "\n",
    "    for y in range(0, next_layer_size):\n",
    "        bias[y] += -1 * self.learning_rate * next_layer_delta[y]"
   ]
  },
  {
   "cell_type": "code",
   "execution_count": 7,
   "metadata": {
    "collapsed": true
   },
   "outputs": [],
   "source": [
    "%%add_to Network\n",
    "def backward_pass(self, input, y):\n",
    "\n",
    "    input_layer_size = self.layers[0]\n",
    "    hidden_layer_size = self.layers[1]\n",
    "    output_layer_size = self.layers[2]\n",
    "\n",
    "    self.output_delta = self.get_output_layer_gradient(y, output_layer_size)\n",
    "    self.hidden_delta = self.get_hidden_layer_gradient(hidden_layer_size,\n",
    "                                                       self.hidden_out, output_layer_size,\n",
    "                                                       self.output_delta, self.w2)\n",
    "\n",
    "    self.update_weights_bias(self.w2, self.b2, hidden_layer_size, self.hidden_out, output_layer_size,\n",
    "                             self.output_delta)\n",
    "\n",
    "    self.update_weights_bias(self.w1, self.b1, input_layer_size, input, hidden_layer_size,\n",
    "                             self.hidden_delta)"
   ]
  },
  {
   "cell_type": "markdown",
   "metadata": {},
   "source": [
    "## Forward Pass"
   ]
  },
  {
   "cell_type": "markdown",
   "metadata": {},
   "source": [
    "Given inputs x1,x2,..., xn, the outcome of the last layer is just the weigthed sum between all the layers in the network, where the output of one layer, is the input of the next layer. For our Network with one hidden layer here is the code that performs the forward pass"
   ]
  },
  {
   "cell_type": "code",
   "execution_count": 8,
   "metadata": {
    "collapsed": false
   },
   "outputs": [],
   "source": [
    "%%add_to Network\n",
    "def get_weighted_sum(self,weights, bias, input_layer_size,input, output_layer_size, output, activation_function):\n",
    "    weighted_sum = 0\n",
    "    for y in range(0, output_layer_size):\n",
    "        for x in range(0, input_layer_size):\n",
    "            weighted_sum += input[x] * weights[x][y]\n",
    "            output[y] = activation_function(weighted_sum - bias[y])\n",
    "        weighted_sum = 0"
   ]
  },
  {
   "cell_type": "code",
   "execution_count": 9,
   "metadata": {
    "collapsed": true
   },
   "outputs": [],
   "source": [
    "%%add_to Network\n",
    "def forward_pass(self, input):\n",
    "\n",
    "    # This code expects a single hidden layer perceptron with input - hidden - output architecture\n",
    "    # THIS SHOULD CHANGE WHEN IMPLEMENTING MLP WITH MULTIPLE LAYERS\n",
    "\n",
    "    input_layer_size = self.layers[0]\n",
    "    hidden_layer_size = self.layers[1]\n",
    "    output_layer_size = self.layers[2]\n",
    "\n",
    "    # Each Neuron on the INPUT layer has 'y' connections to the neurons on the HIDDEN layer\n",
    "    # That's why the loop runs from the hidden layer to the input layer\n",
    "    self.get_weighted_sum(self.w1, self.b1, input_layer_size, input, hidden_layer_size,\n",
    "                          self.hidden_out, self.sigmoid)\n",
    "\n",
    "    # Each Neuron on the HIDDEN layer has 'y' connections to the neurons on the OUTPUT layer\n",
    "    # That's why the loop runs from the OUTPUT layer to the HIDDEN layer\n",
    "    self.get_weighted_sum(self.w2, self.b2, hidden_layer_size, self.hidden_out, output_layer_size,\n",
    "                          self.output, self.sigmoid)"
   ]
  },
  {
   "cell_type": "markdown",
   "metadata": {},
   "source": [
    "To make the notation easier we will now denote the weighted sum as **z**. For instance, **z<sup>l</sup>** would be the values for the layer **l**\n",
    "<img src=\"img/fwd_pass.png\" width=\"250\" height=\"250\"/>"
   ]
  },
  {
   "cell_type": "markdown",
   "metadata": {},
   "source": [
    "## Backpropagation"
   ]
  },
  {
   "cell_type": "markdown",
   "metadata": {},
   "source": [
    "The goal of backpropagation is to compute the partial derivatives ∂C/∂w and ∂C/∂b of the cost function **C** with respect to any weight **w** or bias **b** in the network. For backpropagation to work we need to make two main assumptions about the form of the cost function. "
   ]
  },
  {
   "cell_type": "markdown",
   "metadata": {},
   "source": [
    "- The cost function can be written as an average C=1/n∑<sub>x</sub>C<sub>x</sub> over cost functions C<sub>x</sub> for individual training examples, **x**\n",
    "- The cost is that it can be written as a function of the outputs from the neural network\n",
    "<img src=\"img/backprop_assumption2.png\" width=\"450\" height=\"450\"/>"
   ]
  },
  {
   "cell_type": "markdown",
   "metadata": {},
   "source": [
    "Before going deeper into the backpropagation maths, lets define some notation:\n",
    "- Let's begin with a notation which lets us refer to weights in the network in an unambiguous way. We'll use **w<sup>l</sup><sub>jk</sub>** to denote the weight for the connection from the kthkth neuron in the **(l−1)th layer** to the **jth **neuron in the **lth layer**. So, for example, the diagram below shows the weight on a connection from the fourth neuron in the second layer to the second neuron in the third layer of a network:\n"
   ]
  },
  {
   "cell_type": "markdown",
   "metadata": {
    "collapsed": true
   },
   "source": [
    "<img src=\"img/nn_notation.png\" width=\"450\" height=\"450\"/>"
   ]
  },
  {
   "cell_type": "markdown",
   "metadata": {},
   "source": [
    "- We use a similar notation for the network's biases and activations. Explicitly, we use **b<sup>l</sup><sub>j</sub>** for the bias of the **jth** neuron in the **lth** layer. And we use **a<sup>l</sup><sub>j</sub>** for the activation of the **jth** neuron in the **lth** layer. The following diagram shows examples of these notations in use:"
   ]
  },
  {
   "cell_type": "markdown",
   "metadata": {},
   "source": [
    "<img src=\"img/nn_notation_2.png\" width=\"350\" height=\"350\"/>"
   ]
  },
  {
   "cell_type": "markdown",
   "metadata": {},
   "source": [
    "- With these notations, the activation **a<sup>l</sup><sub>j</sub>** of the **jth** neuron in the **lth** layer is related to the activations in the **(l−1)th** layer by the equation \n",
    "<img src=\"img/activation_next_layer.png\" width=\"300\" height=\"300\"/>"
   ]
  },
  {
   "cell_type": "markdown",
   "metadata": {},
   "source": [
    "**Backpropagation** is based around four fundamental equations. Together, those equations give us a way of computing both the error δ<sup>l</sup> and the gradient of the cost function"
   ]
  },
  {
   "cell_type": "markdown",
   "metadata": {},
   "source": [
    "### BP1: An equation for the error in the output layer, δ<sup>L</sup>"
   ]
  },
  {
   "cell_type": "markdown",
   "metadata": {},
   "source": [
    "<img src=\"img/bp1_1.png\" width=\"200\" height=\"200\"/>\n",
    "<img src=\"img/bp1_2.png\" width=\"200\" height=\"200\"/>\n",
    "<img src=\"img/bp1_3.png\" width=\"200\" height=\"200\"/>"
   ]
  },
  {
   "cell_type": "code",
   "execution_count": 10,
   "metadata": {
    "collapsed": true
   },
   "outputs": [],
   "source": [
    "%%add_to Network\n",
    "def get_output_layer_gradient(self, y, layer_size):\n",
    "    \"\"\"\n",
    "    Compute gradients for the output layer which is defined by:\n",
    "         (gradient of the cost w.r.t neuron activation) * (derivative of the sigmoid of the neuron weighted sum)\n",
    "\n",
    "    It can bet interpreted as how much the cost and the activation is changing w.r.t to that neuron output\n",
    "    :param y: the real output\n",
    "    :param layer_size: the number of the neurons in the layer\n",
    "    :return: a delta array for that layer\n",
    "    \"\"\"\n",
    "    delta = np.zeros(layer_size)\n",
    "    for x in range(0, layer_size):\n",
    "        delta[x] = (y[x] - self.output[x]) * (self.output[x] * (1 - self.output[x]))\n",
    "\n",
    "    return delta"
   ]
  },
  {
   "cell_type": "markdown",
   "metadata": {},
   "source": [
    "### BP2: An equation for the error δ<sup>L</sup> in terms of the error in the next layer\n",
    "<img src=\"img/bp2.png\" width=\"300\" height=\"300\"/>"
   ]
  },
  {
   "cell_type": "code",
   "execution_count": 11,
   "metadata": {
    "collapsed": false
   },
   "outputs": [],
   "source": [
    "%%add_to Network\n",
    "def get_hidden_layer_gradient(self, hidden_layer_size, hidden_output, next_layer_size, next_layer_delta, weights):\n",
    "    \"\"\"\n",
    "    Compute the error of the layer l w.r.t to layer l+1\n",
    "\n",
    "    It can bet interpreted as how much the cost and the activation is changing w.r.t to that neuron output\n",
    "    :param y: the real output\n",
    "    :param layer_size: the number of the neurons in the layer\n",
    "    :return: a delta array for that layer\n",
    "    \"\"\"\n",
    "    temp = 0\n",
    "    hidden_delta = np.zeros(hidden_layer_size)\n",
    "    for x in range(0, hidden_layer_size):\n",
    "        for y in range(0, next_layer_size):\n",
    "            temp += (next_layer_delta[y] * weights[x, y])\n",
    "            hidden_delta[x] = (hidden_output[x] * (1 - hidden_output[x])) * temp\n",
    "            temp = 0\n",
    "    return hidden_delta"
   ]
  },
  {
   "cell_type": "markdown",
   "metadata": {},
   "source": [
    "By combining **BP2** and **BP1** we can compute the error for any layer in the network, we start by using the first equation to compute the delta in the output layer then we use equation 2 to compute in the other layers"
   ]
  },
  {
   "cell_type": "markdown",
   "metadata": {},
   "source": [
    "### BP3: An equation for the rate of change of the cost with respect to any bias in the network\n",
    "<img src=\"img/bp3.png\" width=\"100\" height=\"100\"/>\n",
    "The error is exactly equal to the rate of change ∂C/∂b<sup>l</sup><sub>j</sub>"
   ]
  },
  {
   "cell_type": "markdown",
   "metadata": {},
   "source": [
    "### BP4: An equation for the rate of change of the cost with respect to any weight in the network\n",
    "<img src=\"img/bp4.png\" width=\"150\" height=\"150\"/>"
   ]
  },
  {
   "cell_type": "markdown",
   "metadata": {},
   "source": [
    "This tells us how to compute the partial derivatives ∂C/∂w<sup>l</sup><sub>jk</sub> in terms of the quantities δl and a<sup>l−1</sup>, which we already know how to compute. "
   ]
  },
  {
   "cell_type": "markdown",
   "metadata": {},
   "source": [
    "<img src=\"img/bp_summary.png\" width=\"450\" height=\"450\"/>"
   ]
  },
  {
   "cell_type": "markdown",
   "metadata": {},
   "source": [
    "### The full backproagation algorithm"
   ]
  },
  {
   "cell_type": "code",
   "execution_count": 12,
   "metadata": {
    "collapsed": true
   },
   "outputs": [],
   "source": [
    "%%add_to Network\n",
    "def backpropagation(self, stochastic=True, train_tolerance=0):  # BP with Vanilla or SGD (Stocastic BP)\n",
    "\n",
    "    error = []  # np.zeros((1, self.Max))\n",
    "    epoch = 0\n",
    "    best_mean_squared_error = 100\n",
    "    bestTrain = 0\n",
    "\n",
    "    input_layer_size = self.layers[0]\n",
    "\n",
    "    while epoch < self.epochs and bestTrain < self.minPerf:\n",
    "\n",
    "        sse = 0\n",
    "        for s in range(0, self.num_samples):\n",
    "\n",
    "            if stochastic:\n",
    "                idx = random.randint(0, self.num_samples - 1)\n",
    "            else:\n",
    "                idx = s\n",
    "\n",
    "            # Get the first 'input_layer_size' columns as features\n",
    "            x = self.x_train[idx, 0:input_layer_size]\n",
    "            # Get the last 'output_layer_size' columns (real outputs)\n",
    "            y = self.x_train[idx, input_layer_size:]\n",
    "\n",
    "            self.forward_pass(x)\n",
    "            self.backward_pass(x, y)\n",
    "            sse = sse + self.calculate_error(y)\n",
    "\n",
    "        mean_squared_error = np.sqrt(sse / self.num_samples * self.layers[-1])\n",
    "\n",
    "\n",
    "        if mean_squared_error < best_mean_squared_error:\n",
    "            best_mean_squared_error = mean_squared_error\n",
    "            self.save_model()\n",
    "            (x, bestTrain) = self.TestNetwork(self.x_train, train_tolerance)\n",
    "\n",
    "        error = np.append(error, mean_squared_error)\n",
    "\n",
    "        epoch = epoch + 1\n",
    "\n",
    "\n",
    "    return (error, best_mean_squared_error, bestTrain, epoch)\n"
   ]
  },
  {
   "cell_type": "code",
   "execution_count": 13,
   "metadata": {
    "collapsed": true
   },
   "outputs": [],
   "source": [
    "%%add_to Network\n",
    "def save_model(self):\n",
    "    self.best_w1 = self.w1\n",
    "    self.best_w2 = self.w2\n",
    "    self.best_b1 = self.b1\n",
    "    self.best_b2 = self.b2"
   ]
  },
  {
   "cell_type": "markdown",
   "metadata": {},
   "source": [
    "### Defining some utility functions"
   ]
  },
  {
   "cell_type": "code",
   "execution_count": 14,
   "metadata": {
    "collapsed": true
   },
   "outputs": [],
   "source": [
    "%%add_to Network\n",
    "def TestNetwork(self, Data, erTolerance):\n",
    "\n",
    "    clasPerf = 0\n",
    "    sse = 0\n",
    "    self.w1 = self.best_w1\n",
    "    self.w2 = self.best_w2  # load best knowledge\n",
    "    self.b1 = self.best_b1\n",
    "    self.b2 = self.best_b2  # load best knowledge\n",
    "\n",
    "    testSize = Data.shape[0]\n",
    "\n",
    "    for s in range(0, testSize):\n",
    "\n",
    "        Input = Data[s, 0:self.layers[0]]\n",
    "        Desired = Data[s, self.layers[0]:]\n",
    "\n",
    "        self.forward_pass(Input)\n",
    "        sse = sse + self.calculate_error(Desired)\n",
    "\n",
    "        if (np.isclose(self.output, Desired, atol=erTolerance).any()):\n",
    "            clasPerf = clasPerf + 1\n",
    "\n",
    "    return (sse / testSize, float(clasPerf) / testSize * 100)"
   ]
  },
  {
   "cell_type": "code",
   "execution_count": 15,
   "metadata": {
    "collapsed": true
   },
   "outputs": [],
   "source": [
    "def normalisedata(data, inputsize, outsize):  # normalise the data between [0,1]. This is important for most problems.\n",
    "    traindt = data[:, np.array(range(0, inputsize))]\n",
    "    dt = np.amax(traindt, axis=0)\n",
    "    tds = abs(traindt / dt)\n",
    "    return np.concatenate((tds[:, range(0, inputsize)], data[:, range(inputsize, inputsize + outsize)]), axis=1)"
   ]
  },
  {
   "cell_type": "markdown",
   "metadata": {},
   "source": [
    "### Running the Network on some real data"
   ]
  },
  {
   "cell_type": "code",
   "execution_count": 16,
   "metadata": {
    "collapsed": true
   },
   "outputs": [],
   "source": [
    "problem = 1  # [1,2,3] choose your problem (Iris classfication or 4-bit parity or XOR gate)"
   ]
  },
  {
   "cell_type": "code",
   "execution_count": 17,
   "metadata": {
    "collapsed": false
   },
   "outputs": [
    {
     "name": "stdout",
     "output_type": "stream",
     "text": [
      "[[ 0.60759494  0.77272727  0.23188406  0.08        1.          0.        ]\n",
      " [ 0.60759494  0.68181818  0.20289855  0.04        1.          0.        ]\n",
      " [ 0.5443038   0.68181818  0.15942029  0.04        1.          0.        ]\n",
      " [ 0.73417722  0.90909091  0.17391304  0.08        1.          0.        ]\n",
      " [ 0.72151899  1.          0.2173913   0.16        1.          0.        ]\n",
      " [ 0.6835443   0.88636364  0.1884058   0.16        1.          0.        ]\n",
      " [ 0.64556962  0.79545455  0.20289855  0.12        1.          0.        ]\n",
      " [ 0.72151899  0.86363636  0.24637681  0.12        1.          0.        ]\n",
      " [ 0.93670886  0.63636364  0.88405797  0.76        0.          0.        ]\n",
      " [ 1.          0.86363636  0.92753623  0.8         0.          0.        ]\n",
      " [ 0.81012658  0.63636364  0.8115942   0.88        0.          0.        ]\n",
      " [ 0.79746835  0.63636364  0.73913043  0.6         0.          0.        ]\n",
      " [ 0.7721519   0.59090909  0.8115942   0.56        0.          0.        ]\n",
      " [ 0.97468354  0.68181818  0.88405797  0.92        0.          0.        ]\n",
      " [ 0.79746835  0.77272727  0.8115942   0.96        0.          0.        ]\n",
      " [ 0.81012658  0.70454545  0.79710145  0.72        0.          0.        ]\n",
      " [ 0.75949367  0.68181818  0.69565217  0.72        0.          0.        ]\n",
      " [ 0.87341772  0.70454545  0.7826087   0.84        0.          0.        ]\n",
      " [ 0.84810127  0.70454545  0.8115942   0.96        0.          0.        ]\n",
      " [ 0.64556962  0.86363636  0.2173913   0.12        1.          0.        ]\n",
      " [ 0.6835443   0.77272727  0.24637681  0.08        1.          0.        ]\n",
      " [ 0.64556962  0.84090909  0.2173913   0.16        1.          0.        ]\n",
      " [ 0.58227848  0.81818182  0.14492754  0.08        1.          0.        ]\n",
      " [ 0.64556962  0.75        0.24637681  0.2         1.          0.        ]\n",
      " [ 0.60759494  0.77272727  0.27536232  0.08        1.          0.        ]\n",
      " [ 0.63291139  0.68181818  0.23188406  0.08        1.          0.        ]\n",
      " [ 0.63291139  0.77272727  0.23188406  0.16        1.          0.        ]\n",
      " [ 0.65822785  0.79545455  0.2173913   0.08        1.          0.        ]\n",
      " [ 0.70886076  0.68181818  0.5942029   0.52        1.          1.        ]\n",
      " [ 0.69620253  0.56818182  0.57971014  0.52        1.          1.        ]\n",
      " [ 0.69620253  0.59090909  0.63768116  0.48        1.          1.        ]\n",
      " [ 0.7721519   0.68181818  0.66666667  0.56        1.          1.        ]\n",
      " [ 0.73417722  0.59090909  0.57971014  0.48        1.          1.        ]\n",
      " [ 0.63291139  0.52272727  0.47826087  0.4         1.          1.        ]\n",
      " [ 0.70886076  0.61363636  0.60869565  0.52        1.          1.        ]\n",
      " [ 0.72151899  0.68181818  0.60869565  0.48        1.          1.        ]\n",
      " [ 0.72151899  0.65909091  0.60869565  0.52        1.          1.        ]\n",
      " [ 0.78481013  0.65909091  0.62318841  0.52        1.          1.        ]\n",
      " [ 0.64556962  0.56818182  0.43478261  0.44        1.          1.        ]\n",
      " [ 0.72151899  0.63636364  0.5942029   0.52        1.          1.        ]\n",
      " [ 0.79746835  0.75        0.86956522  1.          0.          0.        ]\n",
      " [ 0.73417722  0.61363636  0.73913043  0.76        0.          0.        ]\n",
      " [ 0.89873418  0.68181818  0.85507246  0.84        0.          0.        ]\n",
      " [ 0.79746835  0.65909091  0.8115942   0.72        0.          0.        ]\n",
      " [ 0.82278481  0.68181818  0.84057971  0.88        0.          0.        ]\n",
      " [ 0.96202532  0.68181818  0.95652174  0.84        0.          0.        ]\n",
      " [ 0.62025316  0.56818182  0.65217391  0.68        0.          0.        ]\n",
      " [ 0.92405063  0.65909091  0.91304348  0.72        0.          0.        ]\n",
      " [ 0.84810127  0.56818182  0.84057971  0.72        0.          0.        ]\n",
      " [ 0.91139241  0.81818182  0.88405797  1.          0.          0.        ]\n",
      " [ 0.82278481  0.72727273  0.73913043  0.8         0.          0.        ]\n",
      " [ 0.81012658  0.61363636  0.76811594  0.76        0.          0.        ]\n",
      " [ 0.86075949  0.68181818  0.79710145  0.84        0.          0.        ]\n",
      " [ 0.72151899  0.56818182  0.72463768  0.8         0.          0.        ]\n",
      " [ 0.73417722  0.63636364  0.73913043  0.96        0.          0.        ]\n",
      " [ 0.81012658  0.72727273  0.76811594  0.92        0.          0.        ]\n",
      " [ 0.82278481  0.68181818  0.79710145  0.72        0.          0.        ]\n",
      " [ 0.97468354  0.86363636  0.97101449  0.88        0.          0.        ]\n",
      " [ 0.97468354  0.59090909  1.          0.92        0.          0.        ]\n",
      " [ 0.75949367  0.5         0.72463768  0.6         0.          0.        ]\n",
      " [ 0.87341772  0.72727273  0.82608696  0.92        0.          0.        ]\n",
      " [ 0.70886076  0.63636364  0.71014493  0.8         0.          0.        ]\n",
      " [ 0.65822785  0.77272727  0.20289855  0.08        1.          0.        ]\n",
      " [ 0.59493671  0.72727273  0.23188406  0.08        1.          0.        ]\n",
      " [ 0.60759494  0.70454545  0.23188406  0.08        1.          0.        ]\n",
      " [ 0.6835443   0.77272727  0.2173913   0.16        1.          0.        ]\n",
      " [ 0.65822785  0.93181818  0.2173913   0.04        1.          0.        ]\n",
      " [ 0.69620253  0.95454545  0.20289855  0.08        1.          0.        ]\n",
      " [ 0.62025316  0.70454545  0.2173913   0.04        1.          0.        ]\n",
      " [ 0.63291139  0.72727273  0.17391304  0.08        1.          0.        ]\n",
      " [ 0.69620253  0.79545455  0.1884058   0.08        1.          0.        ]\n",
      " [ 0.62025316  0.70454545  0.2173913   0.04        1.          0.        ]\n",
      " [ 0.55696203  0.68181818  0.1884058   0.08        1.          0.        ]\n",
      " [ 0.64556962  0.77272727  0.2173913   0.08        1.          0.        ]\n",
      " [ 0.63291139  0.79545455  0.1884058   0.12        1.          0.        ]\n",
      " [ 0.56962025  0.52272727  0.1884058   0.12        1.          0.        ]\n",
      " [ 0.55696203  0.72727273  0.1884058   0.08        1.          0.        ]\n",
      " [ 0.63291139  0.79545455  0.23188406  0.24        1.          0.        ]\n",
      " [ 0.64556962  0.86363636  0.27536232  0.16        1.          0.        ]\n",
      " [ 0.60759494  0.68181818  0.20289855  0.12        1.          0.        ]\n",
      " [ 0.64556962  0.86363636  0.23188406  0.08        1.          0.        ]\n",
      " [ 0.58227848  0.72727273  0.20289855  0.08        1.          0.        ]\n",
      " [ 0.67088608  0.84090909  0.2173913   0.08        1.          0.        ]\n",
      " [ 0.63291139  0.75        0.20289855  0.08        1.          0.        ]\n",
      " [ 0.88607595  0.72727273  0.68115942  0.56        1.          0.        ]\n",
      " [ 0.81012658  0.72727273  0.65217391  0.6         1.          1.        ]\n",
      " [ 0.87341772  0.70454545  0.71014493  0.6         1.          1.        ]\n",
      " [ 0.69620253  0.52272727  0.57971014  0.52        1.          1.        ]\n",
      " [ 0.82278481  0.63636364  0.66666667  0.6         1.          1.        ]\n",
      " [ 0.72151899  0.63636364  0.65217391  0.52        1.          1.        ]\n",
      " [ 0.79746835  0.75        0.68115942  0.64        1.          1.        ]\n",
      " [ 0.62025316  0.54545455  0.47826087  0.4         1.          1.        ]\n",
      " [ 0.83544304  0.65909091  0.66666667  0.52        1.          1.        ]\n",
      " [ 0.65822785  0.61363636  0.56521739  0.56        1.          1.        ]\n",
      " [ 0.63291139  0.45454545  0.50724638  0.4         1.          1.        ]\n",
      " [ 0.74683544  0.68181818  0.60869565  0.6         1.          1.        ]\n",
      " [ 0.75949367  0.5         0.57971014  0.4         1.          1.        ]\n",
      " [ 0.7721519   0.65909091  0.68115942  0.56        1.          1.        ]\n",
      " [ 0.70886076  0.65909091  0.52173913  0.52        1.          1.        ]\n",
      " [ 0.84810127  0.70454545  0.63768116  0.56        1.          1.        ]\n",
      " [ 0.70886076  0.68181818  0.65217391  0.6         1.          1.        ]\n",
      " [ 0.73417722  0.61363636  0.5942029   0.4         1.          1.        ]\n",
      " [ 0.78481013  0.5         0.65217391  0.6         1.          1.        ]\n",
      " [ 0.70886076  0.56818182  0.56521739  0.44        1.          1.        ]\n",
      " [ 0.74683544  0.72727273  0.69565217  0.72        1.          1.        ]\n",
      " [ 0.7721519   0.63636364  0.57971014  0.52        1.          1.        ]\n",
      " [ 0.79746835  0.56818182  0.71014493  0.6         1.          1.        ]\n",
      " [ 0.7721519   0.63636364  0.68115942  0.48        1.          1.        ]\n",
      " [ 0.81012658  0.65909091  0.62318841  0.52        1.          1.        ]\n",
      " [ 0.83544304  0.68181818  0.63768116  0.56        1.          1.        ]]\n",
      "printed data. now we use FNN for training ...\n",
      "0 is the experimental run\n",
      "1 is the experimental run\n",
      "2 is the experimental run\n",
      "3 is the experimental run\n",
      "4 is the experimental run\n",
      "5 is the experimental run\n",
      "6 is the experimental run\n",
      "7 is the experimental run\n",
      "8 is the experimental run\n",
      "9 is the experimental run\n",
      "[ 91.81818182  91.81818182  76.36363636  90.90909091  90.90909091\n",
      "  89.09090909  91.81818182  90.          90.90909091  89.09090909] train perf % for n exp\n",
      "[ 95.   95.   92.5  95.   95.   95.   97.5  95.   97.5  95. ] test  perf % for n exp\n",
      "[ 0.11032532  0.15005408  0.23368613  0.18626925  0.15973809  0.16407681\n",
      "  0.12956435  0.14595915  0.14945105  0.1740744 ] train mean squared error for n exp\n",
      "[ 0.03397089  0.03069788  0.05345767  0.04033876  0.03980534  0.0366283\n",
      "  0.02933972  0.03683501  0.03254183  0.03827206] test mean squared error for n exp\n",
      "mean and std for training perf %\n",
      "89.2727272727 4.41260403619\n",
      "mean and std for test perf %\n",
      "95.25 1.34629120178\n",
      "mean and std for time in seconds\n",
      "7.67315919399 0.210402025889\n"
     ]
    },
    {
     "data": {
      "text/plain": [
       "<matplotlib.text.Text at 0x1039eab70>"
      ]
     },
     "execution_count": 17,
     "metadata": {},
     "output_type": "execute_result"
    },
    {
     "data": {
      "image/png": "[encoded data removed]",
      "text/plain": [
       "<matplotlib.figure.Figure at 0x1039d30b8>"
      ]
     },
     "metadata": {},
     "output_type": "display_data"
    }
   ],
   "source": [
    "if problem == 1:\n",
    "    TrDat = np.loadtxt(\"train.csv\", delimiter=',')  # Iris classification problem (UCI dataset)\n",
    "    TesDat = np.loadtxt(\"test.csv\", delimiter=',')  #\n",
    "    Hidden = 6\n",
    "    Input = 4\n",
    "    Output = 2\n",
    "    TrSamples = 110\n",
    "    TestSize = 40\n",
    "    learnRate = 0.1\n",
    "    TrainData = normalisedata(TrDat, Input, Output)\n",
    "    TestData = normalisedata(TesDat, Input, Output)\n",
    "    MaxTime = 500\n",
    "    MinCriteria = 95  # stop when learn 95 percent\n",
    "\n",
    "if problem == 2:\n",
    "    TrainData = np.loadtxt(\"4bit.csv\", delimiter=',')  # 4-bit parity problem\n",
    "    TestData = np.loadtxt(\"4bit.csv\", delimiter=',')  #\n",
    "    Hidden = 4\n",
    "    Input = 4\n",
    "    Output = 1\n",
    "    TrSamples = 16\n",
    "    TestSize = 16\n",
    "    learnRate = 0.9\n",
    "    MaxTime = 3000\n",
    "    MinCriteria = 95  # stop when learn 95 percent\n",
    "\n",
    "if problem == 3:\n",
    "    TrainData = np.loadtxt(\"xor.csv\", delimiter=',')  # 4-bit parity problem\n",
    "    TestData = np.loadtxt(\"xor.csv\", delimiter=',')  #\n",
    "    Hidden = 3\n",
    "    Input = 2\n",
    "    Output = 1\n",
    "    TrSamples = 4\n",
    "    TestSize = 4\n",
    "    learnRate = 0.9\n",
    "    MaxTime = 500\n",
    "    MinCriteria = 100  # stop when learn 95 percent\n",
    "\n",
    "print(TrainData)\n",
    "\n",
    "print('printed data. now we use FNN for training ...')\n",
    "\n",
    "layers = [Input, Hidden, Output]\n",
    "MaxRun = 10  # number of experimental runs\n",
    "\n",
    "trainTolerance = 0.2  # [eg 0.15 would be seen as 0] [ 0.81 would be seen as 1]\n",
    "testTolerance = 0.49\n",
    "\n",
    "trainPerf = np.zeros(MaxRun)\n",
    "testPerf = np.zeros(MaxRun)\n",
    "\n",
    "trainMSE = np.zeros(MaxRun)\n",
    "testMSE = np.zeros(MaxRun)\n",
    "Epochs = np.zeros(MaxRun)\n",
    "Time = np.zeros(MaxRun)\n",
    "\n",
    "stocastic = 1  # 0 if vanilla (batch mode)\n",
    "\n",
    "for run in range(0, MaxRun):\n",
    "    print(run, 'is the experimental run')\n",
    "    fnnSGD = Network(layers, TrainData, TestData, MaxTime, learnRate, MinCriteria)\n",
    "    start_time = time.time()\n",
    "    (erEp, trainMSE[run], trainPerf[run], Epochs[run]) = fnnSGD.backpropagation(stocastic, trainTolerance)\n",
    "    Time[run] = time.time() - start_time\n",
    "    (testMSE[run], testPerf[run]) = fnnSGD.TestNetwork(TestData, testTolerance)\n",
    "\n",
    "print(trainPerf, 'train perf % for n exp')\n",
    "print(testPerf, 'test  perf % for n exp')\n",
    "print(trainMSE, 'train mean squared error for n exp')\n",
    "print(testMSE, 'test mean squared error for n exp')\n",
    "\n",
    "print('mean and std for training perf %')\n",
    "print(np.mean(trainPerf), np.std(trainPerf))\n",
    "\n",
    "print('mean and std for test perf %')\n",
    "print(np.mean(testPerf), np.std(testPerf))\n",
    "\n",
    "print('mean and std for time in seconds')\n",
    "print(np.mean(Time), np.std(Time))\n",
    "\n",
    "plt.figure()\n",
    "plt.plot(erEp)\n",
    "plt.ylabel('error')\n",
    "#plt.savefig(str(problem) + 'out.png')"
   ]
  },
  {
   "cell_type": "code",
   "execution_count": null,
   "metadata": {
    "collapsed": true
   },
   "outputs": [],
   "source": []
  }
 ],
 "metadata": {
  "kernelspec": {
   "display_name": "Python 3",
   "language": "python",
   "name": "python3"
  },
  "language_info": {
   "codemirror_mode": {
    "name": "ipython",
    "version": 3
   },
   "file_extension": ".py",
   "mimetype": "text/x-python",
   "name": "python",
   "nbconvert_exporter": "python",
   "pygments_lexer": "ipython3",
   "version": "3.5.2"
  }
 },
 "nbformat": 4,
 "nbformat_minor": 2
}
